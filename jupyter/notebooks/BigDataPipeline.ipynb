{
 "cells": [
  {
   "cell_type": "markdown",
   "id": "e3c9719a-67f0-4d03-8091-469a5cba06b8",
   "metadata": {
    "tags": []
   },
   "source": [
    "# 1. Simply read a CSV using Pandas"
   ]
  },
  {
   "cell_type": "code",
   "execution_count": 1,
   "id": "53f6db16-0b23-49ab-90d5-9677e416d5df",
   "metadata": {
    "tags": []
   },
   "outputs": [
    {
     "data": {
      "text/plain": [
       "'/home/jovyan/notebooks'"
      ]
     },
     "execution_count": 1,
     "metadata": {},
     "output_type": "execute_result"
    }
   ],
   "source": [
    "import os \n",
    "cwd = os.getcwd()\n",
    "cwd"
   ]
  },
  {
   "cell_type": "code",
   "execution_count": 40,
   "id": "c46ec20a-94f6-4216-87f7-93b3da108886",
   "metadata": {
    "tags": []
   },
   "outputs": [
    {
     "data": {
      "text/html": [
       "<div>\n",
       "<style scoped>\n",
       "    .dataframe tbody tr th:only-of-type {\n",
       "        vertical-align: middle;\n",
       "    }\n",
       "\n",
       "    .dataframe tbody tr th {\n",
       "        vertical-align: top;\n",
       "    }\n",
       "\n",
       "    .dataframe thead th {\n",
       "        text-align: right;\n",
       "    }\n",
       "</style>\n",
       "<table border=\"1\" class=\"dataframe\">\n",
       "  <thead>\n",
       "    <tr style=\"text-align: right;\">\n",
       "      <th></th>\n",
       "      <th>Unnamed: 0</th>\n",
       "      <th>name</th>\n",
       "      <th>city</th>\n",
       "      <th>state</th>\n",
       "      <th>id</th>\n",
       "    </tr>\n",
       "  </thead>\n",
       "  <tbody>\n",
       "    <tr>\n",
       "      <th>0</th>\n",
       "      <td>0</td>\n",
       "      <td>NorthGate Brewing</td>\n",
       "      <td>Minneapolis</td>\n",
       "      <td>MN</td>\n",
       "      <td>0</td>\n",
       "    </tr>\n",
       "    <tr>\n",
       "      <th>1</th>\n",
       "      <td>1</td>\n",
       "      <td>Against the Grain Brewery</td>\n",
       "      <td>Louisville</td>\n",
       "      <td>KY</td>\n",
       "      <td>1</td>\n",
       "    </tr>\n",
       "    <tr>\n",
       "      <th>2</th>\n",
       "      <td>2</td>\n",
       "      <td>Jack's Abby Craft Lagers</td>\n",
       "      <td>Framingham</td>\n",
       "      <td>MA</td>\n",
       "      <td>2</td>\n",
       "    </tr>\n",
       "    <tr>\n",
       "      <th>3</th>\n",
       "      <td>3</td>\n",
       "      <td>Mike Hess Brewing Company</td>\n",
       "      <td>San Diego</td>\n",
       "      <td>CA</td>\n",
       "      <td>3</td>\n",
       "    </tr>\n",
       "    <tr>\n",
       "      <th>4</th>\n",
       "      <td>4</td>\n",
       "      <td>Fort Point Beer Company</td>\n",
       "      <td>San Francisco</td>\n",
       "      <td>CA</td>\n",
       "      <td>4</td>\n",
       "    </tr>\n",
       "    <tr>\n",
       "      <th>...</th>\n",
       "      <td>...</td>\n",
       "      <td>...</td>\n",
       "      <td>...</td>\n",
       "      <td>...</td>\n",
       "      <td>...</td>\n",
       "    </tr>\n",
       "    <tr>\n",
       "      <th>553</th>\n",
       "      <td>553</td>\n",
       "      <td>Covington Brewhouse</td>\n",
       "      <td>Covington</td>\n",
       "      <td>LA</td>\n",
       "      <td>553</td>\n",
       "    </tr>\n",
       "    <tr>\n",
       "      <th>554</th>\n",
       "      <td>554</td>\n",
       "      <td>Dave's Brewfarm</td>\n",
       "      <td>Wilson</td>\n",
       "      <td>WI</td>\n",
       "      <td>554</td>\n",
       "    </tr>\n",
       "    <tr>\n",
       "      <th>555</th>\n",
       "      <td>555</td>\n",
       "      <td>Ukiah Brewing Company</td>\n",
       "      <td>Ukiah</td>\n",
       "      <td>CA</td>\n",
       "      <td>555</td>\n",
       "    </tr>\n",
       "    <tr>\n",
       "      <th>556</th>\n",
       "      <td>556</td>\n",
       "      <td>Butternuts Beer and Ale</td>\n",
       "      <td>Garrattsville</td>\n",
       "      <td>NY</td>\n",
       "      <td>556</td>\n",
       "    </tr>\n",
       "    <tr>\n",
       "      <th>557</th>\n",
       "      <td>557</td>\n",
       "      <td>Sleeping Lady Brewing Company</td>\n",
       "      <td>Anchorage</td>\n",
       "      <td>AK</td>\n",
       "      <td>557</td>\n",
       "    </tr>\n",
       "  </tbody>\n",
       "</table>\n",
       "<p>558 rows × 5 columns</p>\n",
       "</div>"
      ],
      "text/plain": [
       "     Unnamed: 0                           name           city state   id\n",
       "0             0             NorthGate Brewing     Minneapolis    MN    0\n",
       "1             1      Against the Grain Brewery     Louisville    KY    1\n",
       "2             2       Jack's Abby Craft Lagers     Framingham    MA    2\n",
       "3             3      Mike Hess Brewing Company      San Diego    CA    3\n",
       "4             4        Fort Point Beer Company  San Francisco    CA    4\n",
       "..          ...                            ...            ...   ...  ...\n",
       "553         553            Covington Brewhouse      Covington    LA  553\n",
       "554         554                Dave's Brewfarm         Wilson    WI  554\n",
       "555         555          Ukiah Brewing Company          Ukiah    CA  555\n",
       "556         556        Butternuts Beer and Ale  Garrattsville    NY  556\n",
       "557         557  Sleeping Lady Brewing Company      Anchorage    AK  557\n",
       "\n",
       "[558 rows x 5 columns]"
      ]
     },
     "execution_count": 40,
     "metadata": {},
     "output_type": "execute_result"
    }
   ],
   "source": [
    "import pandas as pd\n",
    "pd_dataframe = pd.read_csv(\"../data/breweries.csv\")\n",
    "pd_dataframe"
   ]
  },
  {
   "cell_type": "markdown",
   "id": "8d627644-a073-4b2a-a590-1a4c69b1dff8",
   "metadata": {},
   "source": [
    "# 2. Check Data Integrity Examples"
   ]
  },
  {
   "cell_type": "code",
   "execution_count": 52,
   "id": "f5245827-1f14-4be5-98a3-bccb16fbd6ea",
   "metadata": {},
   "outputs": [],
   "source": [
    "def check_city(df: pd.DataFrame):\n",
    "    # get specific cols df\n",
    "    '''\n",
    "    :param df: input dataframe \n",
    "    :param specific_cols: list of columns names\n",
    "    :return: ouput dataframe\n",
    "    '''\n",
    "    df['city'] = df['city'].astype('str')\n",
    "    correct_mask = df['city'].str.len() < 15\n",
    "    wrong_mask = df['city'].str.len() >= 15\n",
    "    return df.loc[correct_mask], df.loc[wrong_mask]\n",
    "\n",
    "def check_state(df: pd.DataFrame):\n",
    "    # get specific cols df\n",
    "    '''\n",
    "    :param df: input dataframe \n",
    "    :param specific_cols: list of columns names\n",
    "    :return: ouput dataframe\n",
    "    '''\n",
    "    df['state'] = df['state'].astype('str')\n",
    "    df['state'] = df['state'].str.strip()\n",
    "    correct_mask = df['state'].str.len() == 2\n",
    "    wrong_mask = df['state'].str.len() != 2\n",
    "    return df.loc[correct_mask], df.loc[wrong_mask]\n",
    "\n",
    "def func1(x):\n",
    "    firstName=x.firstname\n",
    "    lastName=x.lastName\n",
    "    name=firstName+\",\"+lastName\n",
    "    gender=x.gender.lower()\n",
    "    salary=x.salary*2\n",
    "    return (name,gender,salary)"
   ]
  },
  {
   "cell_type": "code",
   "execution_count": 53,
   "id": "8a6ded4d-77e7-4597-a262-cd73f28e345f",
   "metadata": {},
   "outputs": [],
   "source": [
    "pd_dataframe, pd_scarti_city = check_city(pd_dataframe)\n",
    "pd_dataframe, pd_scarti_state = check_state(pd_dataframe)"
   ]
  },
  {
   "cell_type": "code",
   "execution_count": 54,
   "id": "de740c92-6d12-4af4-8070-477be6dcde12",
   "metadata": {},
   "outputs": [
    {
     "data": {
      "text/html": [
       "<div>\n",
       "<style scoped>\n",
       "    .dataframe tbody tr th:only-of-type {\n",
       "        vertical-align: middle;\n",
       "    }\n",
       "\n",
       "    .dataframe tbody tr th {\n",
       "        vertical-align: top;\n",
       "    }\n",
       "\n",
       "    .dataframe thead th {\n",
       "        text-align: right;\n",
       "    }\n",
       "</style>\n",
       "<table border=\"1\" class=\"dataframe\">\n",
       "  <thead>\n",
       "    <tr style=\"text-align: right;\">\n",
       "      <th></th>\n",
       "      <th>Unnamed: 0</th>\n",
       "      <th>name</th>\n",
       "      <th>city</th>\n",
       "      <th>state</th>\n",
       "      <th>id</th>\n",
       "    </tr>\n",
       "  </thead>\n",
       "  <tbody>\n",
       "    <tr>\n",
       "      <th>3</th>\n",
       "      <td>3</td>\n",
       "      <td>Mike Hess Brewing Company</td>\n",
       "      <td>San Diego</td>\n",
       "      <td>CA</td>\n",
       "      <td>3</td>\n",
       "    </tr>\n",
       "    <tr>\n",
       "      <th>6</th>\n",
       "      <td>6</td>\n",
       "      <td>Great Divide Brewing Company</td>\n",
       "      <td>Denver</td>\n",
       "      <td>CO</td>\n",
       "      <td>6</td>\n",
       "    </tr>\n",
       "    <tr>\n",
       "      <th>7</th>\n",
       "      <td>7</td>\n",
       "      <td>Tapistry Brewing</td>\n",
       "      <td>Bridgman</td>\n",
       "      <td>MI</td>\n",
       "      <td>7</td>\n",
       "    </tr>\n",
       "    <tr>\n",
       "      <th>8</th>\n",
       "      <td>8</td>\n",
       "      <td>Big Lake Brewing</td>\n",
       "      <td>Holland</td>\n",
       "      <td>MI</td>\n",
       "      <td>8</td>\n",
       "    </tr>\n",
       "    <tr>\n",
       "      <th>11</th>\n",
       "      <td>11</td>\n",
       "      <td>Petoskey Brewing</td>\n",
       "      <td>Petoskey</td>\n",
       "      <td>MI</td>\n",
       "      <td>11</td>\n",
       "    </tr>\n",
       "  </tbody>\n",
       "</table>\n",
       "</div>"
      ],
      "text/plain": [
       "    Unnamed: 0                          name       city state  id\n",
       "3            3     Mike Hess Brewing Company  San Diego    CA   3\n",
       "6            6  Great Divide Brewing Company     Denver    CO   6\n",
       "7            7              Tapistry Brewing   Bridgman    MI   7\n",
       "8            8              Big Lake Brewing    Holland    MI   8\n",
       "11          11              Petoskey Brewing   Petoskey    MI  11"
      ]
     },
     "execution_count": 54,
     "metadata": {},
     "output_type": "execute_result"
    }
   ],
   "source": [
    "pd_dataframe.head(5)"
   ]
  },
  {
   "cell_type": "code",
   "execution_count": 55,
   "id": "2475f8e3-fcde-4f76-ab11-8dfcfe1b1d3e",
   "metadata": {},
   "outputs": [
    {
     "data": {
      "text/html": [
       "<div>\n",
       "<style scoped>\n",
       "    .dataframe tbody tr th:only-of-type {\n",
       "        vertical-align: middle;\n",
       "    }\n",
       "\n",
       "    .dataframe tbody tr th {\n",
       "        vertical-align: top;\n",
       "    }\n",
       "\n",
       "    .dataframe thead th {\n",
       "        text-align: right;\n",
       "    }\n",
       "</style>\n",
       "<table border=\"1\" class=\"dataframe\">\n",
       "  <thead>\n",
       "    <tr style=\"text-align: right;\">\n",
       "      <th></th>\n",
       "      <th>Unnamed: 0</th>\n",
       "      <th>name</th>\n",
       "      <th>city</th>\n",
       "      <th>state</th>\n",
       "      <th>id</th>\n",
       "    </tr>\n",
       "  </thead>\n",
       "  <tbody>\n",
       "  </tbody>\n",
       "</table>\n",
       "</div>"
      ],
      "text/plain": [
       "Empty DataFrame\n",
       "Columns: [Unnamed: 0, name, city, state, id]\n",
       "Index: []"
      ]
     },
     "execution_count": 55,
     "metadata": {},
     "output_type": "execute_result"
    }
   ],
   "source": [
    "pd_scarti_city.head(5)"
   ]
  },
  {
   "cell_type": "code",
   "execution_count": 56,
   "id": "cc9806c8-e2ee-49b8-9be4-6ffed5a74910",
   "metadata": {},
   "outputs": [
    {
     "data": {
      "text/html": [
       "<div>\n",
       "<style scoped>\n",
       "    .dataframe tbody tr th:only-of-type {\n",
       "        vertical-align: middle;\n",
       "    }\n",
       "\n",
       "    .dataframe tbody tr th {\n",
       "        vertical-align: top;\n",
       "    }\n",
       "\n",
       "    .dataframe thead th {\n",
       "        text-align: right;\n",
       "    }\n",
       "</style>\n",
       "<table border=\"1\" class=\"dataframe\">\n",
       "  <thead>\n",
       "    <tr style=\"text-align: right;\">\n",
       "      <th></th>\n",
       "      <th>Unnamed: 0</th>\n",
       "      <th>name</th>\n",
       "      <th>city</th>\n",
       "      <th>state</th>\n",
       "      <th>id</th>\n",
       "    </tr>\n",
       "  </thead>\n",
       "  <tbody>\n",
       "  </tbody>\n",
       "</table>\n",
       "</div>"
      ],
      "text/plain": [
       "Empty DataFrame\n",
       "Columns: [Unnamed: 0, name, city, state, id]\n",
       "Index: []"
      ]
     },
     "execution_count": 56,
     "metadata": {},
     "output_type": "execute_result"
    }
   ],
   "source": [
    "pd_scarti_state.head(5)"
   ]
  },
  {
   "cell_type": "markdown",
   "id": "01a7a36b-e867-4603-983c-457f9c08bb69",
   "metadata": {},
   "source": [
    "# 3. Load Data Into DataLake (HDFS)"
   ]
  },
  {
   "cell_type": "code",
   "execution_count": 57,
   "id": "98b8578e-f312-4885-a131-d0e8d8e62ee4",
   "metadata": {},
   "outputs": [
    {
     "name": "stdout",
     "output_type": "stream",
     "text": [
      "Collecting hdfs\n",
      "  Downloading hdfs-2.7.0-py3-none-any.whl (34 kB)\n",
      "Requirement already satisfied: requests>=2.7.0 in /opt/conda/lib/python3.10/site-packages (from hdfs) (2.28.1)\n",
      "Requirement already satisfied: six>=1.9.0 in /opt/conda/lib/python3.10/site-packages (from hdfs) (1.16.0)\n",
      "Collecting docopt\n",
      "  Downloading docopt-0.6.2.tar.gz (25 kB)\n",
      "  Preparing metadata (setup.py) ... \u001b[?25ldone\n",
      "\u001b[?25hRequirement already satisfied: certifi>=2017.4.17 in /opt/conda/lib/python3.10/site-packages (from requests>=2.7.0->hdfs) (2022.9.24)\n",
      "Requirement already satisfied: idna<4,>=2.5 in /opt/conda/lib/python3.10/site-packages (from requests>=2.7.0->hdfs) (3.4)\n",
      "Requirement already satisfied: urllib3<1.27,>=1.21.1 in /opt/conda/lib/python3.10/site-packages (from requests>=2.7.0->hdfs) (1.26.11)\n",
      "Requirement already satisfied: charset-normalizer<3,>=2 in /opt/conda/lib/python3.10/site-packages (from requests>=2.7.0->hdfs) (2.1.1)\n",
      "Building wheels for collected packages: docopt\n",
      "  Building wheel for docopt (setup.py) ... \u001b[?25ldone\n",
      "\u001b[?25h  Created wheel for docopt: filename=docopt-0.6.2-py2.py3-none-any.whl size=13706 sha256=3a63ca6facf65125ffea5002045ce7ce9ad35d502de757ebc995f4afc5da514e\n",
      "  Stored in directory: /home/jovyan/.cache/pip/wheels/7c/d7/8d/2156234738063e3d4a39ba77dc677046100e62766b53807189\n",
      "Successfully built docopt\n",
      "Installing collected packages: docopt, hdfs\n",
      "Successfully installed docopt-0.6.2 hdfs-2.7.0\n"
     ]
    }
   ],
   "source": [
    "!pip install hdfs"
   ]
  },
  {
   "cell_type": "code",
   "execution_count": 61,
   "id": "a67c693d-da91-465c-8ed3-940c79e272a8",
   "metadata": {},
   "outputs": [],
   "source": [
    "from hdfs import InsecureClient\n",
    "client = InsecureClient('http://namenode:9870', user='root')\n",
    "\n",
    "with client.write('/data/openbeer/breweries/breweries_from_pandas.csv', encoding = 'utf-8') as writer:\n",
    "  pd_dataframe.to_csv(writer)"
   ]
  },
  {
   "attachments": {
    "2942c6a4-9fd7-492f-862e-13ec671557f9.png": {
     "image/png": "[encoded data removed]"
    }
   },
   "cell_type": "markdown",
   "id": "0eab54ce-3158-4aef-b439-0bf262de7247",
   "metadata": {
    "tags": []
   },
   "source": [
    "# 5. Read Data from HDFS using PySpark\n",
    "\n",
    "We need to recover the right spark session url connecting to http://localhost:8080\n",
    "\n",
    "![image.png](attachment:2942c6a4-9fd7-492f-862e-13ec671557f9.png)"
   ]
  },
  {
   "cell_type": "code",
   "execution_count": 62,
   "id": "df3374e0-b3fc-42d1-8aa7-b3b29ed11e81",
   "metadata": {
    "tags": []
   },
   "outputs": [],
   "source": [
    "SPARK_MASTER_URL=\"spark://de2ac0870b40:7077\""
   ]
  },
  {
   "cell_type": "code",
   "execution_count": 63,
   "id": "ef76ef68-72c5-4483-aef9-66afeca876ec",
   "metadata": {
    "tags": []
   },
   "outputs": [],
   "source": [
    "from pyspark.sql import SparkSession\n",
    "\n",
    "spark = SparkSession.\\\n",
    "        builder.\\\n",
    "        appName(\"pyspark-notebook\").\\\n",
    "        master(SPARK_MASTER_URL).\\\n",
    "        config(\"spark.executor.memory\", \"512m\").\\\n",
    "        config(\"spark.authenticate\", \"false\").\\\n",
    "        getOrCreate()"
   ]
  },
  {
   "cell_type": "code",
   "execution_count": 68,
   "id": "1903e647-5a4b-4d7d-a54a-cb0a6ece6cdf",
   "metadata": {
    "tags": []
   },
   "outputs": [
    {
     "name": "stdout",
     "output_type": "stream",
     "text": [
      "+---+----------+--------------------+---------+-----+---+\n",
      "|_c0|Unnamed: 0|                name|     city|state| id|\n",
      "+---+----------+--------------------+---------+-----+---+\n",
      "|  3|         3|Mike Hess Brewing...|San Diego|   CA|  3|\n",
      "|  6|         6|Great Divide Brew...|   Denver|   CO|  6|\n",
      "|  7|         7|    Tapistry Brewing| Bridgman|   MI|  7|\n",
      "|  8|         8|    Big Lake Brewing|  Holland|   MI|  8|\n",
      "| 11|        11|    Petoskey Brewing| Petoskey|   MI| 11|\n",
      "+---+----------+--------------------+---------+-----+---+\n",
      "only showing top 5 rows\n",
      "\n"
     ]
    }
   ],
   "source": [
    "spark_dataframe=spark.read.csv(\"hdfs://namenode:9000/data/openbeer/breweries/breweries_from_pandas.csv\", header=True)\n",
    "spark_dataframe.show(5)"
   ]
  }
 ],
 "metadata": {
  "kernelspec": {
   "display_name": "Python 3 (ipykernel)",
   "language": "python",
   "name": "python3"
  },
  "language_info": {
   "codemirror_mode": {
    "name": "ipython",
    "version": 3
   },
   "file_extension": ".py",
   "mimetype": "text/x-python",
   "name": "python",
   "nbconvert_exporter": "python",
   "pygments_lexer": "ipython3",
   "version": "3.10.6"
  }
 },
 "nbformat": 4,
 "nbformat_minor": 5
}
